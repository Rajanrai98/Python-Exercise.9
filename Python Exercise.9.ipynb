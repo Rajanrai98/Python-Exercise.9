{
 "cells": [
  {
   "cell_type": "code",
   "execution_count": null,
   "id": "b1a73641",
   "metadata": {},
   "outputs": [],
   "source": [
    "lst1 = [\"scorpion\" , \"fish\",\"octopus\",\"cat\",\"shark\",\"whale\",\"starfish\"]\n",
    "new_lst = []\n",
    "for x in lst1:\n",
    "    if x!= \"octopus\":\n",
    "        new_lst.append(x)\n",
    "print(new_lst)\n",
    "    "
   ]
  },
  {
   "cell_type": "code",
   "execution_count": null,
   "id": "1605f1b7",
   "metadata": {},
   "outputs": [],
   "source": [
    "a = 0\n",
    "b = 1\n",
    "num = int(input(\"enter the numbers:\"))\n",
    "if num==1:\n",
    "    print(a)\n",
    "else:\n",
    "    print(a)\n",
    "    print(b)\n",
    "    for i in range(1,num+1):\n",
    "        c = a+b\n",
    "        a = b\n",
    "        b = c\n",
    "        print(c)"
   ]
  },
  {
   "cell_type": "code",
   "execution_count": null,
   "id": "27f5d4a5",
   "metadata": {},
   "outputs": [],
   "source": [
    "num = int(input(\"enter the number:\"))\n",
    "sum = 0\n",
    "temp = num\n",
    "while temp>0:\n",
    "    digit = temp%10\n",
    "    cube = digit**3\n",
    "    sum = sum+cube\n",
    "    temp//=10\n",
    "    if sum==num:\n",
    "        print(\"this is a armstrong number:\")\n",
    "        break\n",
    "else:\n",
    "    print(\"this is not a armstrong number:\")"
   ]
  },
  {
   "cell_type": "code",
   "execution_count": 7,
   "id": "59f32948",
   "metadata": {},
   "outputs": [
    {
     "name": "stdout",
     "output_type": "stream",
     "text": [
      "3\n"
     ]
    }
   ],
   "source": [
    "words = \"programming\"\n",
    "vowels = [\"a\",\"i\",\"o\",\"u\",\"e\"]\n",
    "count = 0\n",
    "for character in vowels:\n",
    "    for letter in words:\n",
    "        if character==letter:\n",
    "            count+=1\n",
    "print(count)\n",
    "    "
   ]
  },
  {
   "cell_type": "code",
   "execution_count": 8,
   "id": "fd457f86",
   "metadata": {},
   "outputs": [
    {
     "data": {
      "text/plain": [
       "['h', 'g', 'f', 'e', 'd', 'c', 'b', 'a']"
      ]
     },
     "execution_count": 8,
     "metadata": {},
     "output_type": "execute_result"
    }
   ],
   "source": [
    "string = [\"a\",\"b\",\"c\",\"d\",\"e\",\"f\",\"g\",\"h\"]\n",
    "string[::-1]"
   ]
  },
  {
   "cell_type": "code",
   "execution_count": 16,
   "id": "6bc17bbf",
   "metadata": {},
   "outputs": [],
   "source": [
    "lst1 = [1,2,3,4,5,6,7,8,9,10]\n",
    "lst12 = [1,2,3,45,23,43,12,21,56,43,2,1,2,21]\n"
   ]
  },
  {
   "cell_type": "code",
   "execution_count": 20,
   "id": "c49585b4",
   "metadata": {},
   "outputs": [],
   "source": [
    "def remove_duplicates(a):\n",
    "    return list(dict.fromkeys(a))"
   ]
  },
  {
   "cell_type": "code",
   "execution_count": 21,
   "id": "1674fd02",
   "metadata": {},
   "outputs": [
    {
     "data": {
      "text/plain": [
       "[1, 2, 3, 45, 23, 43, 12, 21, 56]"
      ]
     },
     "execution_count": 21,
     "metadata": {},
     "output_type": "execute_result"
    }
   ],
   "source": [
    "remove_duplicates(lst12)"
   ]
  },
  {
   "cell_type": "code",
   "execution_count": 22,
   "id": "aa704b60",
   "metadata": {},
   "outputs": [
    {
     "name": "stdout",
     "output_type": "stream",
     "text": [
      "enter the number a:2\n",
      "enter the number b:4\n",
      "2\n"
     ]
    }
   ],
   "source": [
    "a = int(input(\"enter the number a:\"))\n",
    "b = int(input(\"enter the number b:\"))\n",
    "if a%b!=0:\n",
    "    rem = a%b\n",
    "    b = rem\n",
    "    hcf = b\n",
    "    print(hcf)"
   ]
  },
  {
   "cell_type": "code",
   "execution_count": 24,
   "id": "2af01eb4",
   "metadata": {},
   "outputs": [],
   "source": [
    "import pandas as pd"
   ]
  },
  {
   "cell_type": "code",
   "execution_count": 28,
   "id": "3b58c942",
   "metadata": {},
   "outputs": [],
   "source": [
    "data = pd.DataFrame({\"Animal\":[\"Tiger\" ,\"Tiger\", \"chitah\" , \"lion\" , \"Tortise\"] , \"Speed\": [80,80 ,150 , 80 , 10 ]})"
   ]
  },
  {
   "cell_type": "code",
   "execution_count": 29,
   "id": "7bb99649",
   "metadata": {},
   "outputs": [
    {
     "data": {
      "text/html": [
       "<div>\n",
       "<style scoped>\n",
       "    .dataframe tbody tr th:only-of-type {\n",
       "        vertical-align: middle;\n",
       "    }\n",
       "\n",
       "    .dataframe tbody tr th {\n",
       "        vertical-align: top;\n",
       "    }\n",
       "\n",
       "    .dataframe thead th {\n",
       "        text-align: right;\n",
       "    }\n",
       "</style>\n",
       "<table border=\"1\" class=\"dataframe\">\n",
       "  <thead>\n",
       "    <tr style=\"text-align: right;\">\n",
       "      <th></th>\n",
       "      <th>Animal</th>\n",
       "      <th>Speed</th>\n",
       "    </tr>\n",
       "  </thead>\n",
       "  <tbody>\n",
       "    <tr>\n",
       "      <th>0</th>\n",
       "      <td>Tiger</td>\n",
       "      <td>80</td>\n",
       "    </tr>\n",
       "    <tr>\n",
       "      <th>1</th>\n",
       "      <td>Tiger</td>\n",
       "      <td>80</td>\n",
       "    </tr>\n",
       "    <tr>\n",
       "      <th>2</th>\n",
       "      <td>chitah</td>\n",
       "      <td>150</td>\n",
       "    </tr>\n",
       "    <tr>\n",
       "      <th>3</th>\n",
       "      <td>lion</td>\n",
       "      <td>80</td>\n",
       "    </tr>\n",
       "    <tr>\n",
       "      <th>4</th>\n",
       "      <td>Tortise</td>\n",
       "      <td>10</td>\n",
       "    </tr>\n",
       "  </tbody>\n",
       "</table>\n",
       "</div>"
      ],
      "text/plain": [
       "    Animal  Speed\n",
       "0    Tiger     80\n",
       "1    Tiger     80\n",
       "2   chitah    150\n",
       "3     lion     80\n",
       "4  Tortise     10"
      ]
     },
     "execution_count": 29,
     "metadata": {},
     "output_type": "execute_result"
    }
   ],
   "source": [
    "data"
   ]
  },
  {
   "cell_type": "code",
   "execution_count": 36,
   "id": "1568fe00",
   "metadata": {},
   "outputs": [],
   "source": [
    "data = data.groupby([\"Animal\"])"
   ]
  },
  {
   "cell_type": "code",
   "execution_count": 37,
   "id": "9dd1562d",
   "metadata": {},
   "outputs": [],
   "source": [
    "data = data[\"Speed\"].mean()"
   ]
  },
  {
   "cell_type": "code",
   "execution_count": 38,
   "id": "876c1834",
   "metadata": {},
   "outputs": [
    {
     "data": {
      "text/plain": [
       "Animal\n",
       "Tiger       80.0\n",
       "Tortise     10.0\n",
       "chitah     150.0\n",
       "lion        80.0\n",
       "Name: Speed, dtype: float64"
      ]
     },
     "execution_count": 38,
     "metadata": {},
     "output_type": "execute_result"
    }
   ],
   "source": [
    "data"
   ]
  },
  {
   "cell_type": "code",
   "execution_count": 44,
   "id": "ab7af170",
   "metadata": {},
   "outputs": [],
   "source": [
    "result = [x for x in range(1,100,2)]"
   ]
  },
  {
   "cell_type": "code",
   "execution_count": 45,
   "id": "f9538053",
   "metadata": {},
   "outputs": [
    {
     "data": {
      "text/plain": [
       "[1,\n",
       " 3,\n",
       " 5,\n",
       " 7,\n",
       " 9,\n",
       " 11,\n",
       " 13,\n",
       " 15,\n",
       " 17,\n",
       " 19,\n",
       " 21,\n",
       " 23,\n",
       " 25,\n",
       " 27,\n",
       " 29,\n",
       " 31,\n",
       " 33,\n",
       " 35,\n",
       " 37,\n",
       " 39,\n",
       " 41,\n",
       " 43,\n",
       " 45,\n",
       " 47,\n",
       " 49,\n",
       " 51,\n",
       " 53,\n",
       " 55,\n",
       " 57,\n",
       " 59,\n",
       " 61,\n",
       " 63,\n",
       " 65,\n",
       " 67,\n",
       " 69,\n",
       " 71,\n",
       " 73,\n",
       " 75,\n",
       " 77,\n",
       " 79,\n",
       " 81,\n",
       " 83,\n",
       " 85,\n",
       " 87,\n",
       " 89,\n",
       " 91,\n",
       " 93,\n",
       " 95,\n",
       " 97,\n",
       " 99]"
      ]
     },
     "execution_count": 45,
     "metadata": {},
     "output_type": "execute_result"
    }
   ],
   "source": [
    "result"
   ]
  },
  {
   "cell_type": "code",
   "execution_count": 53,
   "id": "5d5dd7cb",
   "metadata": {},
   "outputs": [],
   "source": [
    "add = lambda x, y : x+y"
   ]
  },
  {
   "cell_type": "code",
   "execution_count": 55,
   "id": "76f9e919",
   "metadata": {},
   "outputs": [
    {
     "data": {
      "text/plain": [
       "5"
      ]
     },
     "execution_count": 55,
     "metadata": {},
     "output_type": "execute_result"
    }
   ],
   "source": [
    "add(2,3)"
   ]
  },
  {
   "cell_type": "code",
   "execution_count": 56,
   "id": "400061c2",
   "metadata": {},
   "outputs": [],
   "source": [
    "mult = lambda x , y :x*y"
   ]
  },
  {
   "cell_type": "code",
   "execution_count": 57,
   "id": "5e7f625d",
   "metadata": {},
   "outputs": [
    {
     "data": {
      "text/plain": [
       "8"
      ]
     },
     "execution_count": 57,
     "metadata": {},
     "output_type": "execute_result"
    }
   ],
   "source": [
    "mult(4,2)"
   ]
  },
  {
   "cell_type": "code",
   "execution_count": 58,
   "id": "05a7ef9a",
   "metadata": {},
   "outputs": [
    {
     "data": {
      "text/plain": [
       "18"
      ]
     },
     "execution_count": 58,
     "metadata": {},
     "output_type": "execute_result"
    }
   ],
   "source": [
    "sub = lambda x,y : x-y\n",
    "sub(45,27)"
   ]
  },
  {
   "cell_type": "code",
   "execution_count": 59,
   "id": "4af1dae5",
   "metadata": {},
   "outputs": [
    {
     "data": {
      "text/plain": [
       "22.5"
      ]
     },
     "execution_count": 59,
     "metadata": {},
     "output_type": "execute_result"
    }
   ],
   "source": [
    "div = lambda x,y:x/y\n",
    "div(45,2)"
   ]
  },
  {
   "cell_type": "code",
   "execution_count": 60,
   "id": "f9095a87",
   "metadata": {},
   "outputs": [],
   "source": [
    "students = pd.DataFrame({\"Name\": [\"Ram\",\"Shyam\",\"ghanshyam\"] , \"Age\":[5,3,6]})"
   ]
  },
  {
   "cell_type": "code",
   "execution_count": 61,
   "id": "51601da4",
   "metadata": {},
   "outputs": [
    {
     "data": {
      "text/html": [
       "<div>\n",
       "<style scoped>\n",
       "    .dataframe tbody tr th:only-of-type {\n",
       "        vertical-align: middle;\n",
       "    }\n",
       "\n",
       "    .dataframe tbody tr th {\n",
       "        vertical-align: top;\n",
       "    }\n",
       "\n",
       "    .dataframe thead th {\n",
       "        text-align: right;\n",
       "    }\n",
       "</style>\n",
       "<table border=\"1\" class=\"dataframe\">\n",
       "  <thead>\n",
       "    <tr style=\"text-align: right;\">\n",
       "      <th></th>\n",
       "      <th>Name</th>\n",
       "      <th>Age</th>\n",
       "    </tr>\n",
       "  </thead>\n",
       "  <tbody>\n",
       "    <tr>\n",
       "      <th>0</th>\n",
       "      <td>Ram</td>\n",
       "      <td>5</td>\n",
       "    </tr>\n",
       "    <tr>\n",
       "      <th>1</th>\n",
       "      <td>Shyam</td>\n",
       "      <td>3</td>\n",
       "    </tr>\n",
       "    <tr>\n",
       "      <th>2</th>\n",
       "      <td>ghanshyam</td>\n",
       "      <td>6</td>\n",
       "    </tr>\n",
       "  </tbody>\n",
       "</table>\n",
       "</div>"
      ],
      "text/plain": [
       "        Name  Age\n",
       "0        Ram    5\n",
       "1      Shyam    3\n",
       "2  ghanshyam    6"
      ]
     },
     "execution_count": 61,
     "metadata": {},
     "output_type": "execute_result"
    }
   ],
   "source": [
    "students"
   ]
  },
  {
   "cell_type": "code",
   "execution_count": 72,
   "id": "564336af",
   "metadata": {},
   "outputs": [
    {
     "name": "stdout",
     "output_type": "stream",
     "text": [
      "['tiger', 'lion', 'cheetah', 'fox', 'Dog', 'wolf', 'bull']\n"
     ]
    }
   ],
   "source": [
    "tuple1 = (\"tiger\",\"lion\",\"cheetah\",\"fox\",\"cat\",\"Dog\",\"wolf\",\"bull\")\n",
    "list1 = []\n",
    "for x in tuple1:\n",
    "    if x!= \"cat\":\n",
    "        list1.append(x)\n",
    "print(list1)"
   ]
  },
  {
   "cell_type": "code",
   "execution_count": 76,
   "id": "f788e046",
   "metadata": {},
   "outputs": [
    {
     "name": "stdout",
     "output_type": "stream",
     "text": [
      "['tiger', 'lion', 'cheetah', 'fox', 'cat', 'Dog', 'wolf', 'bull', 'cow']\n"
     ]
    }
   ],
   "source": [
    "tuple1 = (\"tiger\",\"lion\",\"cheetah\",\"fox\",\"cat\",\"Dog\",\"wolf\",\"bull\")\n",
    "list1 = list(tuple1)\n",
    "list1.append(\"cow\")\n",
    "print(list1)"
   ]
  },
  {
   "cell_type": "code",
   "execution_count": 77,
   "id": "da07cec5",
   "metadata": {},
   "outputs": [
    {
     "name": "stdout",
     "output_type": "stream",
     "text": [
      "* * * * * \n",
      "* * * * * \n",
      "* * * * * \n",
      "* * * * * \n",
      "* * * * * \n"
     ]
    }
   ],
   "source": [
    "for i in range(5):\n",
    "    for j in range(5):\n",
    "        print(\"*\" , end = \" \")\n",
    "    print()\n"
   ]
  },
  {
   "cell_type": "code",
   "execution_count": 79,
   "id": "f39690ca",
   "metadata": {},
   "outputs": [
    {
     "name": "stdout",
     "output_type": "stream",
     "text": [
      "* * * * * \n",
      "*       * \n",
      "*       * \n",
      "*       * \n",
      "* * * * * \n"
     ]
    }
   ],
   "source": [
    "for i in range(5):\n",
    "    for j in range(5):\n",
    "        if (i==0 or i ==4 or j == 0 or j ==4):\n",
    "            print(\"*\" , end = \" \")\n",
    "        else:\n",
    "            print(\" \" , end = \" \")\n",
    "    print()\n",
    "        "
   ]
  },
  {
   "cell_type": "code",
   "execution_count": 84,
   "id": "0354f3a4",
   "metadata": {},
   "outputs": [
    {
     "name": "stdout",
     "output_type": "stream",
     "text": [
      "* * * * \n",
      "*     * \n",
      "*     * \n",
      "* * * * \n"
     ]
    }
   ],
   "source": [
    "for i in range(4):\n",
    "    for j in range(4):\n",
    "        if (i==0 or i ==3 or j ==0 or j ==3):\n",
    "            print(\"*\" , end = \" \")\n",
    "        else:\n",
    "            print(\" \" , end = \" \")\n",
    "    print()"
   ]
  },
  {
   "cell_type": "code",
   "execution_count": 85,
   "id": "f358bc40",
   "metadata": {},
   "outputs": [
    {
     "name": "stdout",
     "output_type": "stream",
     "text": [
      "* * * * * \n",
      "* * * * \n",
      "* * * \n",
      "* * \n",
      "* \n"
     ]
    }
   ],
   "source": [
    "for i in range(5):\n",
    "    for j in range(5-i):\n",
    "        print(\"*\" , end = \" \")\n",
    "    print()"
   ]
  },
  {
   "cell_type": "code",
   "execution_count": 88,
   "id": "ff340b78",
   "metadata": {},
   "outputs": [
    {
     "name": "stdout",
     "output_type": "stream",
     "text": [
      "* \n",
      "* * \n",
      "* * * \n",
      "* * * * \n",
      "* * * * * \n"
     ]
    }
   ],
   "source": [
    "for i in range(5):\n",
    "    for j in range(i+1):\n",
    "        print(\"*\" , end = \" \")\n",
    "    print()"
   ]
  },
  {
   "cell_type": "code",
   "execution_count": 91,
   "id": "29ff2a06",
   "metadata": {},
   "outputs": [
    {
     "name": "stdout",
     "output_type": "stream",
     "text": [
      "* * * * * * \n",
      "*       * \n",
      "*     * \n",
      "*   * \n",
      "* * \n",
      "* \n"
     ]
    }
   ],
   "source": [
    "for i in range(6):\n",
    "    for j in range(6-i):\n",
    "        if (i==0 or i==5 or j ==0 or j == 6-i-1):\n",
    "            print(\"*\" , end = \" \")\n",
    "        else:\n",
    "            print(\" \" , end = \" \")\n",
    "    print()"
   ]
  },
  {
   "cell_type": "code",
   "execution_count": 97,
   "id": "8189b8a2",
   "metadata": {},
   "outputs": [
    {
     "name": "stdout",
     "output_type": "stream",
     "text": [
      "    * \n",
      "   * * \n",
      "  * * * \n",
      " * * * * \n",
      "* * * * * \n"
     ]
    }
   ],
   "source": [
    "for i in range(5):\n",
    "    for j in range(5-i-1):\n",
    "        print(\" \" , end = \"\")\n",
    "    for k in range(i+1):\n",
    "        print(\"*\" , end = \" \")\n",
    "    print()"
   ]
  },
  {
   "cell_type": "code",
   "execution_count": 98,
   "id": "ac87b00f",
   "metadata": {},
   "outputs": [
    {
     "name": "stdout",
     "output_type": "stream",
     "text": [
      "     * \n",
      "    * * \n",
      "   * * * \n",
      "  * * * * \n",
      " * * * * * \n",
      "* * * * * * \n"
     ]
    }
   ],
   "source": [
    "for i in range(6):\n",
    "    for j in range(6-i-1):\n",
    "        print(\" \" , end = \"\")\n",
    "    for k in range(i+1):\n",
    "        print(\"*\" , end = \" \")\n",
    "    print()"
   ]
  },
  {
   "cell_type": "code",
   "execution_count": 99,
   "id": "cce3a8f4",
   "metadata": {},
   "outputs": [
    {
     "name": "stdout",
     "output_type": "stream",
     "text": [
      "    * \n",
      "   * * \n",
      "  * * * \n",
      " * * * * \n",
      "* * * * * \n",
      "* * * * * \n",
      " * * * * \n",
      "  * * * \n",
      "   * * \n",
      "    * \n"
     ]
    }
   ],
   "source": [
    "for i in range(5):\n",
    "    for j in range(5-i-1):\n",
    "        print(\" \" , end = \"\")\n",
    "    for k in range(i+1):\n",
    "        print(\"*\" , end = \" \")\n",
    "    print()\n",
    "    \n",
    "    \n",
    "for i in range(5):\n",
    "    for j in range(i):\n",
    "        print(\" \" , end = \"\")\n",
    "    for k in range(5-i):\n",
    "        print(\"*\" , end = \" \")\n",
    "    print()"
   ]
  },
  {
   "cell_type": "code",
   "execution_count": 100,
   "id": "647deb61",
   "metadata": {},
   "outputs": [
    {
     "name": "stdout",
     "output_type": "stream",
     "text": [
      "     * \n",
      "    * * \n",
      "   * * * \n",
      "  * * * * \n",
      " * * * * * \n",
      "* * * * * * \n",
      "* * * * * * \n",
      " * * * * * \n",
      "  * * * * \n",
      "   * * * \n",
      "    * * \n",
      "     * \n"
     ]
    }
   ],
   "source": [
    "for i in range(6):\n",
    "    for j in range(6-i-1):\n",
    "        print(\" \" , end = \"\")\n",
    "    for k in range(i+1):\n",
    "        print(\"*\" , end = \" \")\n",
    "    print()\n",
    "\n",
    "    \n",
    "    \n",
    "for i in range(6):\n",
    "    for j in range(i):\n",
    "        print(\" \" , end = \"\")\n",
    "    for k in range(6-i):\n",
    "        print(\"*\" , end = \" \")\n",
    "    print()"
   ]
  },
  {
   "cell_type": "code",
   "execution_count": 101,
   "id": "9e1740ae",
   "metadata": {},
   "outputs": [
    {
     "name": "stdout",
     "output_type": "stream",
     "text": [
      "49\n",
      "56\n",
      "105\n"
     ]
    }
   ],
   "source": [
    "class sample:\n",
    "    x = 49\n",
    "    y = 56\n",
    "s = sample()\n",
    "print(s.x)\n",
    "print(s.y)\n",
    "print(s.x+s.y)"
   ]
  },
  {
   "cell_type": "code",
   "execution_count": 104,
   "id": "a6e6aab7",
   "metadata": {},
   "outputs": [],
   "source": [
    "class students:\n",
    "    marks1 , marks2 , marks3 = 67,45,87\n",
    "    def process(self):\n",
    "        sum1 = self.marks1+self.marks2+self.marks3\n",
    "        avg = sum1/3\n",
    "        print(\"sum1_of_marks:\" , sum1)\n",
    "        print(\"avg_of_marks:\",avg)\n",
    "        "
   ]
  },
  {
   "cell_type": "code",
   "execution_count": 105,
   "id": "580ba480",
   "metadata": {},
   "outputs": [
    {
     "name": "stdout",
     "output_type": "stream",
     "text": [
      "sum1_of_marks: 199\n",
      "avg_of_marks: 66.33333333333333\n"
     ]
    }
   ],
   "source": [
    "s = students()\n",
    "s.process()"
   ]
  },
  {
   "cell_type": "code",
   "execution_count": 106,
   "id": "9b7b6a98",
   "metadata": {},
   "outputs": [
    {
     "name": "stdout",
     "output_type": "stream",
     "text": [
      "enter the english_marks:56\n",
      "enter the hindi_marks:43\n",
      "enter the math_marks:89\n",
      "enter the science_marks:76\n",
      "sum1_of_marks: 199\n",
      "avg_of_marks: 66.33333333333333\n"
     ]
    }
   ],
   "source": [
    "class Students:\n",
    "    english_marks = int(input(\"enter the english_marks:\"))\n",
    "    hindi_marks = int(input(\"enter the hindi_marks:\"))\n",
    "    math_marks = int(input(\"enter the math_marks:\"))\n",
    "    science_marks = int(input(\"enter the science_marks:\"))\n",
    "    def process(self):\n",
    "        sum_1 = self.english_marks+self.hindi_marks+self.math_marks+self.science_marks\n",
    "        avg_1 = sum_1/4\n",
    "        print(\"sum_1_of_marks:\",sum_1)\n",
    "        print(\"avg_of_marks:\",avg_1)\n",
    "s = students()\n",
    "s.process()"
   ]
  },
  {
   "cell_type": "code",
   "execution_count": 107,
   "id": "7b532733",
   "metadata": {},
   "outputs": [
    {
     "name": "stdout",
     "output_type": "stream",
     "text": [
      "enter the marks of english:65\n",
      "enter the marks of math:87\n",
      "enter the marks of science:83\n",
      "enter the marks of hindi:69\n",
      "enter the marks of social science:72\n",
      "aggregation_of_all subjects: 450\n",
      "averages_of_all_subjects: 90.0\n",
      "65\n"
     ]
    }
   ],
   "source": [
    "class subject_marks:\n",
    "    english = int(input(\"enter the marks of english:\"))\n",
    "    math = int(input(\"enter the marks of math:\"))\n",
    "    science = int(input(\"enter the marks of science:\"))\n",
    "    hindi = int(input(\"enter the marks of hindi:\"))\n",
    "    social_science = int(input(\"enter the marks of social science:\"))\n",
    "    def p(self,evs):\n",
    "        aggregation = self.english+self.math+self.science+self.hindi+self.social_science+evs\n",
    "        average = aggregation/5\n",
    "        print(\"aggregation_of_all subjects:\",aggregation)\n",
    "        print(\"averages_of_all_subjects:\",average)\n",
    "s = subject_marks()\n",
    "evs = 74\n",
    "s.p(evs)\n",
    "print(s.english)"
   ]
  },
  {
   "cell_type": "code",
   "execution_count": 108,
   "id": "4c748699",
   "metadata": {},
   "outputs": [
    {
     "name": "stdout",
     "output_type": "stream",
     "text": [
      "this function is in child class:\n",
      "this function is in parent class:\n"
     ]
    }
   ],
   "source": [
    "class parents:\n",
    "    def func1(self):\n",
    "        print(\"this function is in parent class:\")\n",
    "class child (parents):\n",
    "    def func2(self):\n",
    "        print(\"this function is in child class:\")\n",
    "        \n",
    "object = child()\n",
    "object.func2()\n",
    "object.func1()"
   ]
  },
  {
   "cell_type": "code",
   "execution_count": 109,
   "id": "11e30d11",
   "metadata": {},
   "outputs": [
    {
     "name": "stdout",
     "output_type": "stream",
     "text": [
      "this function is in parents class:\n",
      "this function is in child class:\n"
     ]
    }
   ],
   "source": [
    "class animal:\n",
    "    def func1(self):\n",
    "        print(\"this function is in parents class:\")\n",
    "class fox(animal):\n",
    "    def func2(self):\n",
    "        print(\"this function is in child class:\")\n",
    "        \n",
    "object = fox()\n",
    "object.func1()\n",
    "object.func2()"
   ]
  },
  {
   "cell_type": "code",
   "execution_count": 111,
   "id": "53dddc42",
   "metadata": {},
   "outputs": [
    {
     "name": "stdout",
     "output_type": "stream",
     "text": [
      "enter the number:1234\n",
      "num: 1234\n",
      "reverse_numbers: 4321\n",
      "false\n"
     ]
    }
   ],
   "source": [
    "num = int(input(\"enter the number:\"))\n",
    "print(\"num:\",num)\n",
    "a = num%10\n",
    "num = num//10\n",
    "b = num%10\n",
    "num = num//10\n",
    "c = num%10\n",
    "d = num//10\n",
    "rev = a*1000+b*100+c*10+d\n",
    "print(\"reverse_numbers:\" , rev)\n",
    "if num==rev:\n",
    "    print(\"this is a True\")\n",
    "else:\n",
    "    print(\"false\")"
   ]
  },
  {
   "cell_type": "code",
   "execution_count": null,
   "id": "df487cf5",
   "metadata": {},
   "outputs": [],
   "source": []
  }
 ],
 "metadata": {
  "kernelspec": {
   "display_name": "Python 3 (ipykernel)",
   "language": "python",
   "name": "python3"
  },
  "language_info": {
   "codemirror_mode": {
    "name": "ipython",
    "version": 3
   },
   "file_extension": ".py",
   "mimetype": "text/x-python",
   "name": "python",
   "nbconvert_exporter": "python",
   "pygments_lexer": "ipython3",
   "version": "3.10.9"
  }
 },
 "nbformat": 4,
 "nbformat_minor": 5
}
